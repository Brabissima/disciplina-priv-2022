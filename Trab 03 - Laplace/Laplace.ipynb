{
 "cells": [
  {
   "cell_type": "code",
   "execution_count": 1,
   "id": "28be44c0",
   "metadata": {},
   "outputs": [],
   "source": [
    "import pandas as pd\n",
    "import numpy as np\n",
    "from scipy import stats"
   ]
  },
  {
   "cell_type": "code",
   "execution_count": 2,
   "id": "bc81c8df",
   "metadata": {},
   "outputs": [],
   "source": [
    "covid = pd.read_csv('covid_com_meso.csv')\n",
    "covid = covid[:1000]"
   ]
  },
  {
   "cell_type": "code",
   "execution_count": 3,
   "id": "b03d8356",
   "metadata": {
    "scrolled": true
   },
   "outputs": [
    {
     "name": "stderr",
     "output_type": "stream",
     "text": [
      "C:\\Users\\malu.maia\\Anaconda3\\lib\\site-packages\\pandas\\core\\indexing.py:1637: SettingWithCopyWarning: \n",
      "A value is trying to be set on a copy of a slice from a DataFrame\n",
      "\n",
      "See the caveats in the documentation: https://pandas.pydata.org/pandas-docs/stable/user_guide/indexing.html#returning-a-view-versus-a-copy\n",
      "  self._setitem_single_block(indexer, value, name)\n"
     ]
    }
   ],
   "source": [
    "for i in range(len(covid)):\n",
    "    covid['localCaso'].iloc[i] = covid['localCaso'].iloc[i].split(sep='; ')[0]"
   ]
  },
  {
   "cell_type": "markdown",
   "id": "13492749",
   "metadata": {},
   "source": [
    "**Q1:** Média da idade dos indivíduos representados no dataset."
   ]
  },
  {
   "cell_type": "code",
   "execution_count": 4,
   "id": "1c9656dc",
   "metadata": {},
   "outputs": [],
   "source": [
    "def Q1(dataset):\n",
    "    return dataset['idadeCaso'].mean()"
   ]
  },
  {
   "cell_type": "code",
   "execution_count": 5,
   "id": "5aa27285",
   "metadata": {},
   "outputs": [],
   "source": [
    "def delta_Q1():\n",
    "    # Considering that the oldest person is 120 and the youngest 0, the sensibility is 120\n",
    "    oldest = 120\n",
    "    youngest = 0\n",
    "    \n",
    "    return abs(oldest - youngest)"
   ]
  },
  {
   "cell_type": "markdown",
   "id": "c601681d",
   "metadata": {},
   "source": [
    "**Q2:**  Número de exames positivos (atributo *resultadoFinalExame*)."
   ]
  },
  {
   "cell_type": "code",
   "execution_count": 6,
   "id": "6213e0d6",
   "metadata": {},
   "outputs": [],
   "source": [
    "def Q2(dataset):\n",
    "    return dataset['resultadoFinalExame'].value_counts()['Positivo']"
   ]
  },
  {
   "cell_type": "code",
   "execution_count": 7,
   "id": "118c9a5b",
   "metadata": {},
   "outputs": [],
   "source": [
    "def delta_Q2():\n",
    "    # Considering that the max number of positive exams is the Ceará's population\n",
    "    # and the min is 0\n",
    "    max_positive = 9240580\n",
    "    min_positive = 0\n",
    "    \n",
    "    return abs(max_positive, min_positive)"
   ]
  },
  {
   "cell_type": "markdown",
   "id": "1ab10c27",
   "metadata": {},
   "source": [
    "**Q3:** Total de exames realizados por município (atributo *municipioCaso*)."
   ]
  },
  {
   "cell_type": "code",
   "execution_count": 8,
   "id": "39d74656",
   "metadata": {},
   "outputs": [],
   "source": [
    "def Q3(dataset):\n",
    "    counties = np.unique(dataset['localCaso'])\n",
    "    n_exams_county = {}\n",
    "    for county in counties:\n",
    "        n_exams = sum(dataset['localCaso'][dataset['localCaso'] == county].value_counts())\n",
    "        n_exams_county[county] = n_exams\n",
    "    \n",
    "    return n_exams_county"
   ]
  },
  {
   "cell_type": "code",
   "execution_count": 9,
   "id": "a3def340",
   "metadata": {},
   "outputs": [],
   "source": [
    "def delta_Q3():\n",
    "    # Considering that the max is the poulation of each county\n",
    "    \n",
    "    return"
   ]
  },
  {
   "cell_type": "markdown",
   "id": "26308da4",
   "metadata": {},
   "source": [
    "# Ruído de Laplace"
   ]
  },
  {
   "cell_type": "code",
   "execution_count": 10,
   "id": "9360dafe",
   "metadata": {},
   "outputs": [],
   "source": [
    "def laplace_query(output, delta, eps):\n",
    "    if isinstance(output, dict):\n",
    "        eps = eps/len(output)\n",
    "        cities = list(output.keys())\n",
    "        counts = list(output.values())\n",
    "        output_noise = counts + stats.laplace.rvs(loc=0, scale=delta/eps, size=len(output))\n",
    "        \n",
    "        return dict(zip(cities, output_noise))\n",
    "    \n",
    "    return output + stats.laplace.rvs(loc=0, scale=delta/eps)"
   ]
  },
  {
   "cell_type": "code",
   "execution_count": 11,
   "id": "b79e73f5",
   "metadata": {},
   "outputs": [],
   "source": [
    "epsilon = [0.1, 0.5, 1, 10]\n",
    "queries = [Q1, Q2, Q3]"
   ]
  },
  {
   "cell_type": "code",
   "execution_count": 13,
   "id": "acff0356",
   "metadata": {},
   "outputs": [],
   "source": [
    "#all_results = []\n",
    "#for q in queries:\n",
    "#    outputs = {}\n",
    "#    for eps in epsilon:\n",
    "#        outputs[eps] = laplace_query()\n",
    "#    all_results.append(outputs)"
   ]
  }
 ],
 "metadata": {
  "kernelspec": {
   "display_name": "Python 3",
   "language": "python",
   "name": "python3"
  },
  "language_info": {
   "codemirror_mode": {
    "name": "ipython",
    "version": 3
   },
   "file_extension": ".py",
   "mimetype": "text/x-python",
   "name": "python",
   "nbconvert_exporter": "python",
   "pygments_lexer": "ipython3",
   "version": "3.8.8"
  }
 },
 "nbformat": 4,
 "nbformat_minor": 5
}

{
 "cells": [
  {
   "cell_type": "code",
   "execution_count": 1,
   "id": "18db755c",
   "metadata": {},
   "outputs": [],
   "source": [
    "import pandas as pd\n",
    "import numpy as np\n",
    "import random\n",
    "import json\n",
    "from collections import defaultdict\n",
    "from sklearn import datasets\n",
    "from multiprocessing.dummy import Pool\n",
    "from datetime import datetime"
   ]
  },
  {
   "cell_type": "markdown",
   "id": "3bde86ea",
   "metadata": {},
   "source": [
    "# Pre-processing"
   ]
  },
  {
   "cell_type": "code",
   "execution_count": null,
   "id": "63493a0c",
   "metadata": {},
   "outputs": [],
   "source": [
    "covid = pd.read_csv('Dataset_Covid_CE.csv')"
   ]
  },
  {
   "cell_type": "code",
   "execution_count": null,
   "id": "11bf65bf",
   "metadata": {},
   "outputs": [],
   "source": [
    "covid = covid[['estadoCaso', 'codigoMunicipioCaso', 'municipioCaso', 'bairroCaso', 'sexoCaso', 'dataNascimento', \n",
    "               'idadeCaso','racaCor', 'resultadoFinalExame']]\n",
    "global df\n",
    "df = covid\n",
    "df.dropna(inplace=True)"
   ]
  },
  {
   "cell_type": "code",
   "execution_count": null,
   "id": "caf06e5a",
   "metadata": {},
   "outputs": [],
   "source": [
    "df.head()"
   ]
  },
  {
   "cell_type": "markdown",
   "id": "dd9ffe26",
   "metadata": {},
   "source": [
    "### Pegando as mesoregiões para generalizar a localidade em mais um nível"
   ]
  },
  {
   "cell_type": "code",
   "execution_count": null,
   "id": "6a965924",
   "metadata": {},
   "outputs": [],
   "source": [
    "regioes = pd.read_csv('CE_region.csv') # database from IpeaGEO\n",
    "regioes = regioes[['Código IBGE do Município', 'Nome da Mesoregião']]\n",
    "regioes['Nome da Mesoregião'].replace('Sert§es Cearenses', 'Sertões Cearenses', inplace=True)"
   ]
  },
  {
   "cell_type": "code",
   "execution_count": null,
   "id": "365389d5",
   "metadata": {},
   "outputs": [],
   "source": [
    "regioes.head(5)"
   ]
  },
  {
   "cell_type": "code",
   "execution_count": null,
   "id": "0c26ef16",
   "metadata": {},
   "outputs": [],
   "source": [
    "dict_meso = defaultdict(list)\n",
    "for meso in regioes['Nome da Macroregião'].unique():\n",
    "    dict_meso[meso] = list(regioes['Código IBGE do Município'][regioes['Nome da Mesoregião'] == meso])"
   ]
  },
  {
   "cell_type": "code",
   "execution_count": null,
   "id": "95205377",
   "metadata": {},
   "outputs": [],
   "source": [
    "mesoregioes = []\n",
    "for i in range(len(df)):\n",
    "    for key in dict_meso.keys():\n",
    "        if(df['codigoMunicipioCaso'].iloc[i] in dict_meso[key]):\n",
    "            mesoregioes.append(key)\n",
    "df['mesoregiaoCaso'] = mesoregioes\n",
    "df = df[['estadoCaso', 'codigoMunicipioCaso', 'municipioCaso', 'mesoregiaoCaso', 'bairroCaso', 'sexoCaso', 'dataNascimento', \n",
    "         'idadeCaso','racaCor', 'resultadoFinalExame']]"
   ]
  },
  {
   "cell_type": "code",
   "execution_count": null,
   "id": "6c54166f",
   "metadata": {},
   "outputs": [],
   "source": [
    "df"
   ]
  },
  {
   "cell_type": "code",
   "execution_count": null,
   "id": "52287982",
   "metadata": {
    "scrolled": true
   },
   "outputs": [],
   "source": [
    "df.head()"
   ]
  },
  {
   "cell_type": "markdown",
   "id": "5452bfec",
   "metadata": {},
   "source": [
    "### Joining the three locality attributes to construct a generalization tree"
   ]
  },
  {
   "cell_type": "code",
   "execution_count": null,
   "id": "e98ab91a",
   "metadata": {},
   "outputs": [],
   "source": [
    "local = []\n",
    "for i in range(len(df)):\n",
    "    local.append('{}; {}; {}; {}'.format(df['bairroCaso'].iloc[i], df['municipioCaso'].iloc[i], df['mesoregiaoCaso'].iloc[i], df['estadoCaso'].iloc[i]))\n",
    "    # changing date format\n",
    "    df['dataNascimento'].iloc[i] = '{}/{}/{}'.format(df['dataNascimento'].iloc[i][-2:], \n",
    "                                                     df['dataNascimento'].iloc[i][5:7],\n",
    "                                                     df['dataNascimento'].iloc[i][:4])\n",
    "    \n",
    "df = df.drop(['estadoCaso', 'mesoregiaoCaso', 'municipioCaso', 'bairroCaso'], axis=1)\n",
    "df['localCaso'] = local\n",
    "df = df[['localCaso', 'sexoCaso', 'dataNascimento', 'idadeCaso', 'racaCor', 'resultadoFinalExame']]\n",
    "\n",
    "df.head()"
   ]
  },
  {
   "cell_type": "code",
   "execution_count": null,
   "id": "73d8bc5e",
   "metadata": {},
   "outputs": [],
   "source": [
    "df.to_csv('covid_com_meso.csv')"
   ]
  },
  {
   "cell_type": "markdown",
   "id": "3de0f167",
   "metadata": {},
   "source": [
    "# Just call the already pre-processed dataset"
   ]
  },
  {
   "cell_type": "code",
   "execution_count": 5,
   "id": "1dada2a0",
   "metadata": {},
   "outputs": [],
   "source": [
    "df = pd.read_csv('covid_com_meso.csv')\n",
    "df.drop(columns='Unnamed: 0', axis=1, inplace=True)\n",
    "global df"
   ]
  },
  {
   "cell_type": "markdown",
   "id": "1bff370e",
   "metadata": {},
   "source": [
    "# Suppression"
   ]
  },
  {
   "cell_type": "code",
   "execution_count": 6,
   "id": "943d1ad8",
   "metadata": {},
   "outputs": [],
   "source": [
    "def suppression(features):\n",
    "    for feature in features:\n",
    "        dataset[feature].replace(dataset[feature].unique(), '*', inplace=True)\n",
    "    return dataset"
   ]
  },
  {
   "cell_type": "markdown",
   "id": "bb858de3",
   "metadata": {},
   "source": [
    "# Generalization"
   ]
  },
  {
   "cell_type": "code",
   "execution_count": 7,
   "id": "dfbfce53",
   "metadata": {},
   "outputs": [],
   "source": [
    "def generalization(level_local=0, level_bday=0):\n",
    "    dataset = generalizing_local(level_local)\n",
    "    dataset = generalizing_bday(dataset, level_bday)\n",
    "    \n",
    "    return dataset"
   ]
  },
  {
   "cell_type": "markdown",
   "id": "a1d1a2e8",
   "metadata": {},
   "source": [
    "### Generalizing County"
   ]
  },
  {
   "cell_type": "code",
   "execution_count": 8,
   "id": "d6aa4234",
   "metadata": {},
   "outputs": [],
   "source": [
    "def generalizing_local(level=0):\n",
    "    if(level == 1):\n",
    "        for i in range(len(dataset)):\n",
    "            neigh, county, m_region, state = dataset['localCaso'].iloc[i].split('; ')\n",
    "            dataset['localCaso'].iloc[i] = '*; {}; {}; {}'.format(county, m_region, state)\n",
    "    elif(level == 2):\n",
    "        for i in range(len(dataset)):\n",
    "            neigh, county, m_region, state = dataset['localCaso'].iloc[i].split('; ')\n",
    "            dataset['localCaso'].iloc[i] = '*; *; {}; {}'.format(m_region, state)\n",
    "    elif(level == 3):\n",
    "        for i in range(len(dataset)):\n",
    "            neigh, county, m_region, state = dataset['localCaso'].iloc[i].split('; ')\n",
    "            dataset['localCaso'].iloc[i] = '*; *; *; {}'.format(state)\n",
    "    \n",
    "    return dataset"
   ]
  },
  {
   "cell_type": "markdown",
   "id": "13038b50",
   "metadata": {},
   "source": [
    "### Generalizing birthday"
   ]
  },
  {
   "cell_type": "code",
   "execution_count": 9,
   "id": "235661a8",
   "metadata": {},
   "outputs": [],
   "source": [
    "def generalizing_bday(dataset, level=0):\n",
    "    dataset = dataset.copy()\n",
    "    dataset = dataset\n",
    "    if(level == 1):\n",
    "        for i in range(len(dataset)):\n",
    "            day, month, year = dataset['dataNascimento'].iloc[i].split('/')\n",
    "            dataset['dataNascimento'].iloc[i] = '*/{}/{}'.format(month, year)\n",
    "    elif(level == 2):\n",
    "        for i in range(len(dataset)):\n",
    "            day, month, year = dataset['dataNascimento'].iloc[i].split('/')\n",
    "            dataset['dataNascimento'].iloc[i] = '*/*/{}'.format(year)\n",
    "    \n",
    "    return dataset"
   ]
  },
  {
   "cell_type": "markdown",
   "id": "c55ae611",
   "metadata": {},
   "source": [
    "# Perturbation"
   ]
  },
  {
   "cell_type": "code",
   "execution_count": 2,
   "id": "5d70129a",
   "metadata": {},
   "outputs": [],
   "source": [
    "from scipy.stats import laplace"
   ]
  },
  {
   "cell_type": "code",
   "execution_count": 12,
   "id": "b3f01fe6",
   "metadata": {},
   "outputs": [],
   "source": [
    "def randomizing_gaussian(index, value):\n",
    "    value = np.ceil(np.random.normal(loc=dataset['idadeCaso'].mean(), scale=dataset['idadeCaso'].std()))#np.ceil(round(value + noise, 1)) # remove ceil(*) for float values\n",
    "   \n",
    "    return index, value"
   ]
  },
  {
   "cell_type": "code",
   "execution_count": 4,
   "id": "35197285",
   "metadata": {},
   "outputs": [],
   "source": [
    "def perturbation(feature):\n",
    "    global sensitivity\n",
    "    global eps\n",
    "    if(isinstance(dataset[feature].iloc[0], str)):\n",
    "        values, counts = dataset[feature].value_counts().index, dataset[feature].value_counts().values\n",
    "        dataset[feature] = random.choices(values, weights=counts, k=len(dataset[feature])) # following the real frequencies distribution\n",
    "    else:\n",
    "        sensitivity = max(dataset[feature]) - min(dataset[feature])\n",
    "        index_feature_2D = np.c_[np.array(dataset.index), np.array(dataset[feature])]\n",
    "        \n",
    "        with Pool(15) as pool:\n",
    "            threads = pool.starmap(randomizing_gaussian, index_feature_2D)\n",
    "            pool.terminate()\n",
    "            pool.close()\n",
    "        pool.join()\n",
    "        \n",
    "        dataset[feature] = [value for value in list(dict(threads).values())]\n",
    "    \n",
    "    return dataset"
   ]
  },
  {
   "cell_type": "markdown",
   "id": "21b5a164",
   "metadata": {},
   "source": [
    "### Testing Perturbation on COVID data"
   ]
  },
  {
   "cell_type": "code",
   "execution_count": 10,
   "id": "2c300b61",
   "metadata": {},
   "outputs": [
    {
     "name": "stdout",
     "output_type": "stream",
     "text": [
      "Tamanho do dataset:  825977\n",
      "Para quantas amostras deseja executar as operações?\n",
      "1000\n"
     ]
    },
    {
     "name": "stderr",
     "output_type": "stream",
     "text": [
      "C:\\Users\\malu.maia\\Anaconda3\\lib\\site-packages\\pandas\\core\\frame.py:4308: SettingWithCopyWarning: \n",
      "A value is trying to be set on a copy of a slice from a DataFrame\n",
      "\n",
      "See the caveats in the documentation: https://pandas.pydata.org/pandas-docs/stable/user_guide/indexing.html#returning-a-view-versus-a-copy\n",
      "  return super().drop(\n"
     ]
    }
   ],
   "source": [
    "df = pd.read_csv('covid_com_meso.csv')\n",
    "print(\"Tamanho do dataset: \",len(df))\n",
    "n = int(input('Para quantas amostras deseja executar as operações?\\n'))\n",
    "global dataset\n",
    "global pre_df\n",
    "dataset = df[:n]\n",
    "dataset.drop(columns='Unnamed: 0', axis=1, inplace=True)\n",
    "pre_df = dataset.copy()"
   ]
  },
  {
   "cell_type": "code",
   "execution_count": 11,
   "id": "4f9e10fb",
   "metadata": {},
   "outputs": [
    {
     "name": "stdout",
     "output_type": "stream",
     "text": [
      "\n",
      "\n",
      "1 - Carregar dados pré-processados\n",
      "2 - Supressão\n",
      "3 - Generalização\n",
      "4 - Perturbação\n",
      "5 - Visualizar dados anonimizados\n",
      "6 - Calcular estatísticas\n",
      "7 - Sair\n",
      "\n",
      "\n",
      "\n",
      "Digite a operação que deseja realizar:\n",
      "4\n",
      "Selecione o atributo que deseja aplicar a perturbação:               \n",
      "1 - Local\n",
      "2 - Gênero\n",
      "3 - Data do nascimento\n",
      "4 - Idade\n",
      "5 - Raça/Cor\n",
      "6 - Resultado do exame\n",
      "\n",
      "\n",
      "4\n"
     ]
    },
    {
     "name": "stderr",
     "output_type": "stream",
     "text": [
      "<ipython-input-4-97cec04fc75a>:17: SettingWithCopyWarning: \n",
      "A value is trying to be set on a copy of a slice from a DataFrame.\n",
      "Try using .loc[row_indexer,col_indexer] = value instead\n",
      "\n",
      "See the caveats in the documentation: https://pandas.pydata.org/pandas-docs/stable/user_guide/indexing.html#returning-a-view-versus-a-copy\n",
      "  dataset[feature] = [value for value in list(dict(threads).values())]\n"
     ]
    },
    {
     "name": "stdout",
     "output_type": "stream",
     "text": [
      "                                             localCaso   sexoCaso  \\\n",
      "0               CAICARA; SOBRAL; Noroeste Cearense; CE  MASCULINO   \n",
      "1      BANGUE; PACAJUS; Metropolitana de Fortaleza; CE  MASCULINO   \n",
      "2     ZUMBI; FORTALEZA; Metropolitana de Fortaleza; CE  MASCULINO   \n",
      "3    METROPOLIS; CAUCAIA; Metropolitana de Fortalez...  MASCULINO   \n",
      "4    PARANGABA; FORTALEZA; Metropolitana de Fortale...   FEMININO   \n",
      "..                                                 ...        ...   \n",
      "995    COCO; FORTALEZA; Metropolitana de Fortaleza; CE   FEMININO   \n",
      "996  PRESIDENTE KENNEDY; FORTALEZA; Metropolitana d...  MASCULINO   \n",
      "997  JARDIM CEARENSE; FORTALEZA; Metropolitana de F...   FEMININO   \n",
      "998               CENTRO; ICO; Centro-Sul Cearense; CE   FEMININO   \n",
      "999  ALDEITA; FORTALEZA; Metropolitana de Fortaleza...   FEMININO   \n",
      "\n",
      "    dataNascimento  idadeCaso         racaCor resultadoFinalExame  \n",
      "0       14/08/2003  39.318935           Parda            Negativo  \n",
      "1       07/11/1983  95.580668           Parda            Negativo  \n",
      "2       12/03/1992  24.582347           Parda            Negativo  \n",
      "3       06/03/1970  29.041088  Sem Informacao            Negativo  \n",
      "4       10/01/1939  37.885346           Parda            Negativo  \n",
      "..             ...        ...             ...                 ...  \n",
      "995     05/02/1951  73.791871          Branca            Negativo  \n",
      "996     27/12/1989  35.503162           Parda            Positivo  \n",
      "997     21/07/1988  53.324007           Parda            Negativo  \n",
      "998     06/01/1928  71.308441          Branca            Negativo  \n",
      "999     18/05/1983  64.080944          Branca            Negativo  \n",
      "\n",
      "[1000 rows x 6 columns]\n",
      "\n",
      "\n",
      "1 - Carregar dados pré-processados\n",
      "2 - Supressão\n",
      "3 - Generalização\n",
      "4 - Perturbação\n",
      "5 - Visualizar dados anonimizados\n",
      "6 - Calcular estatísticas\n",
      "7 - Sair\n",
      "\n",
      "\n",
      "\n",
      "Digite a operação que deseja realizar:\n",
      "4\n",
      "Selecione o atributo que deseja aplicar a perturbação:               \n",
      "1 - Local\n",
      "2 - Gênero\n",
      "3 - Data do nascimento\n",
      "4 - Idade\n",
      "5 - Raça/Cor\n",
      "6 - Resultado do exame\n",
      "\n",
      "\n",
      "4\n"
     ]
    },
    {
     "name": "stderr",
     "output_type": "stream",
     "text": [
      "<ipython-input-4-97cec04fc75a>:17: SettingWithCopyWarning: \n",
      "A value is trying to be set on a copy of a slice from a DataFrame.\n",
      "Try using .loc[row_indexer,col_indexer] = value instead\n",
      "\n",
      "See the caveats in the documentation: https://pandas.pydata.org/pandas-docs/stable/user_guide/indexing.html#returning-a-view-versus-a-copy\n",
      "  dataset[feature] = [value for value in list(dict(threads).values())]\n"
     ]
    },
    {
     "name": "stdout",
     "output_type": "stream",
     "text": [
      "                                             localCaso   sexoCaso  \\\n",
      "0               CAICARA; SOBRAL; Noroeste Cearense; CE  MASCULINO   \n",
      "1      BANGUE; PACAJUS; Metropolitana de Fortaleza; CE  MASCULINO   \n",
      "2     ZUMBI; FORTALEZA; Metropolitana de Fortaleza; CE  MASCULINO   \n",
      "3    METROPOLIS; CAUCAIA; Metropolitana de Fortalez...  MASCULINO   \n",
      "4    PARANGABA; FORTALEZA; Metropolitana de Fortale...   FEMININO   \n",
      "..                                                 ...        ...   \n",
      "995    COCO; FORTALEZA; Metropolitana de Fortaleza; CE   FEMININO   \n",
      "996  PRESIDENTE KENNEDY; FORTALEZA; Metropolitana d...  MASCULINO   \n",
      "997  JARDIM CEARENSE; FORTALEZA; Metropolitana de F...   FEMININO   \n",
      "998               CENTRO; ICO; Centro-Sul Cearense; CE   FEMININO   \n",
      "999  ALDEITA; FORTALEZA; Metropolitana de Fortaleza...   FEMININO   \n",
      "\n",
      "    dataNascimento  idadeCaso         racaCor resultadoFinalExame  \n",
      "0       14/08/2003  29.654791           Parda            Negativo  \n",
      "1       07/11/1983  12.328971           Parda            Negativo  \n",
      "2       12/03/1992  23.978393           Parda            Negativo  \n",
      "3       06/03/1970  30.225378  Sem Informacao            Negativo  \n",
      "4       10/01/1939  52.451087           Parda            Negativo  \n",
      "..             ...        ...             ...                 ...  \n",
      "995     05/02/1951  28.861696          Branca            Negativo  \n",
      "996     27/12/1989  48.990561           Parda            Positivo  \n",
      "997     21/07/1988  27.767839           Parda            Negativo  \n",
      "998     06/01/1928  13.809639          Branca            Negativo  \n",
      "999     18/05/1983  57.738355          Branca            Negativo  \n",
      "\n",
      "[1000 rows x 6 columns]\n",
      "\n",
      "\n",
      "1 - Carregar dados pré-processados\n",
      "2 - Supressão\n",
      "3 - Generalização\n",
      "4 - Perturbação\n",
      "5 - Visualizar dados anonimizados\n",
      "6 - Calcular estatísticas\n",
      "7 - Sair\n",
      "\n",
      "\n",
      "\n",
      "Digite a operação que deseja realizar:\n",
      "6\n",
      "Estatísticas idade perturbada e não perturbada:\n",
      "\n",
      "Média: 37.80412542392409, 38.973\n",
      "Mediana: 37.277265913845994, 35.0\n",
      "Desvio Padrão: 17.648614635546785, 17.58056515018785\n"
     ]
    }
   ],
   "source": [
    "def menu():\n",
    "    print('\\n\\n1 - Carregar dados pré-processados\\n2 - Supressão\\n3 - Generalização\\n4 - Perturbação\\n5 - Visualizar dados anonimizados\\n6 - Calcular estatísticas\\n7 - Sair\\n\\n')\n",
    "    op = input('\\nDigite a operação que deseja realizar:\\n')\n",
    "    return op\n",
    "\n",
    "def op_1():\n",
    "    print(pre_df)\n",
    "\n",
    "def op_2():\n",
    "    def menu_features():\n",
    "        print('Selecione os atributos que deseja suprimir (separe os atributos com vírgula+espaço: \", \"):\\\n",
    "               \\n1 - Local\\n2 - Gênero\\n3 - Data do nascimento\\n4 - Idade\\n5 - Raça/Cor\\n6 - Resultado do exame\\n\\n')\n",
    "        features = input()\n",
    "        return features\n",
    "    \n",
    "    global dataset\n",
    "    features = menu_features()\n",
    "    features = features.split(', ')\n",
    "    attr = {'1': 'localCaso',\n",
    "            '2': 'sexoCaso',\n",
    "            '3': 'dataNascimento',\n",
    "            '4': 'idadeCaso',\n",
    "            '5': 'racaCor',\n",
    "            '6': 'resultadoFinalExame'\n",
    "           }\n",
    "    \n",
    "    flag = True\n",
    "    for feat in features:\n",
    "        if(feat not in attr.keys()):\n",
    "            flag = False\n",
    "    if(flag == True):\n",
    "        dataset = suppression([attr[i] for i in features])\n",
    "        print(dataset)\n",
    "    else:\n",
    "        print(\"\\nValores inválidos.\\n\")\n",
    "        op_2()\n",
    "        \n",
    "def op_3():\n",
    "    global dataset\n",
    "    print('\\nSelecione o nível de generalização desejado para local, com 0 sendo o menor nivel e 3 o maior:\\n')\n",
    "    level_local = int(input())\n",
    "    print('\\nAgora selecione o nível de generalização desejado para nascimento, com 0 sendo o menor nível e 2 o maior:\\n')\n",
    "    level_bday = int(input())\n",
    "    dataset = generalization(level_local, level_bday)\n",
    "    print(dataset)\n",
    "    \n",
    "def op_4():\n",
    "    def menu_feature():\n",
    "        print('Selecione o atributo que deseja aplicar a perturbação:\\\n",
    "               \\n1 - Local\\n2 - Gênero\\n3 - Data do nascimento\\n4 - Idade\\n5 - Raça/Cor\\n6 - Resultado do exame\\n\\n')\n",
    "        feature = input()\n",
    "        return feature\n",
    "    \n",
    "    global dataset\n",
    "    feature = menu_feature()\n",
    "    attr = {'1': 'localCaso',\n",
    "            '2': 'sexoCaso',\n",
    "            '3': 'dataNascimento',\n",
    "            '4': 'idadeCaso',\n",
    "            '5': 'racaCor',\n",
    "            '6': 'resultadoFinalExame'\n",
    "           }\n",
    "    \n",
    "    dataset = perturbation(attr[feature])\n",
    "    print(dataset)\n",
    "    \n",
    "\n",
    "def options():\n",
    "    op = menu()\n",
    "\n",
    "    if(op == '1'):\n",
    "        op_1()\n",
    "        options()\n",
    "\n",
    "    elif(op == '2'):\n",
    "        op_2()\n",
    "        options()\n",
    "\n",
    "    elif(op == '3'):\n",
    "        op_3()\n",
    "        options()\n",
    "        \n",
    "    elif(op == '4'):\n",
    "        op_4()\n",
    "        options()\n",
    "    \n",
    "    elif(op == '5'):\n",
    "        print(dataset)\n",
    "        options()\n",
    "        \n",
    "    elif(op == '6'):\n",
    "        print(\"Estatísticas idade perturbada e não perturbada:\\n\\nMédia: {}, {}\\nMediana: {}, {}\\nDesvio Padrão: {}, {}\".format(np.mean(dataset['idadeCaso']), np.mean(pre_df['idadeCaso']),\n",
    "                                                             np.median(dataset['idadeCaso']), np.median(pre_df['idadeCaso']),\n",
    "                                                             np.std(dataset['idadeCaso']), np.std(pre_df['idadeCaso'])))\n",
    "    else:\n",
    "        return\n",
    "    \n",
    "options()\n",
    "dataset.to_csv('covid_publico.csv')"
   ]
  }
 ],
 "metadata": {
  "kernelspec": {
   "display_name": "Python 3",
   "language": "python",
   "name": "python3"
  },
  "language_info": {
   "codemirror_mode": {
    "name": "ipython",
    "version": 3
   },
   "file_extension": ".py",
   "mimetype": "text/x-python",
   "name": "python",
   "nbconvert_exporter": "python",
   "pygments_lexer": "ipython3",
   "version": "3.8.8"
  }
 },
 "nbformat": 4,
 "nbformat_minor": 5
}

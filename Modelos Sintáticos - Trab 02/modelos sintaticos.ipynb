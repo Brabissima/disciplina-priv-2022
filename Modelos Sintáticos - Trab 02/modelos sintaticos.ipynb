{
 "cells": [
  {
   "cell_type": "code",
   "execution_count": 1,
   "id": "6c6d2977",
   "metadata": {},
   "outputs": [],
   "source": [
    "import pandas as pd\n",
    "import numpy as np\n",
    "import itertools\n",
    "import random\n",
    "import math\n",
    "from collections import defaultdict\n",
    "from collections import Counter\n",
    "from matplotlib import pyplot as plt"
   ]
  },
  {
   "cell_type": "markdown",
   "id": "584cb837",
   "metadata": {},
   "source": [
    "# Pré-processamento"
   ]
  },
  {
   "cell_type": "code",
   "execution_count": 2,
   "id": "2e126401",
   "metadata": {},
   "outputs": [],
   "source": [
    "def pre_processing(path):\n",
    "    students = pd.read_csv(path, sep=';')\n",
    "    split_data = students.copy()\n",
    "    complemento = students['Data'].str.split('/', expand=True)\n",
    "    split_data['Dia'], split_data['Mes'], split_data['Ano'] = complemento[0], complemento[1], complemento[2]\n",
    "    decades = [year[:-1]+'0' for year in split_data['Ano']]\n",
    "    split_data['Decada'] = decades\n",
    "    \n",
    "    split_data['FaixaEtaria'] = [None]*len(split_data)\n",
    "    bins = [int(split_data['Idade'].min())-1, int(split_data['Idade'].min())+2, int(split_data['Idade'].max())+1]\n",
    "    labels = [str(bins[i-1])+'-'+str(bins[i]-1) for i in range(1, len(bins))]\n",
    "    split_data['FaixaEtaria'] = pd.cut(split_data['Idade'], bins=bins, labels=labels)\n",
    "    \n",
    "    split_data['RangeMaximo'] = [str(split_data['Idade'].min())+'-'+str(split_data['Idade'].max())]*len(split_data)\n",
    "    \n",
    "    split_data = split_data[['Dia', 'Mes', 'Ano', 'Decada', 'Idade', 'FaixaEtaria', 'RangeMaximo', 'Doenca']]\n",
    "    \n",
    "    return students, split_data"
   ]
  },
  {
   "cell_type": "code",
   "execution_count": 3,
   "id": "d8f38581",
   "metadata": {},
   "outputs": [],
   "source": [
    "original_data, split_data = pre_processing('alunos.csv')"
   ]
  },
  {
   "cell_type": "code",
   "execution_count": 4,
   "id": "2668a629",
   "metadata": {},
   "outputs": [
    {
     "data": {
      "text/html": [
       "<div>\n",
       "<style scoped>\n",
       "    .dataframe tbody tr th:only-of-type {\n",
       "        vertical-align: middle;\n",
       "    }\n",
       "\n",
       "    .dataframe tbody tr th {\n",
       "        vertical-align: top;\n",
       "    }\n",
       "\n",
       "    .dataframe thead th {\n",
       "        text-align: right;\n",
       "    }\n",
       "</style>\n",
       "<table border=\"1\" class=\"dataframe\">\n",
       "  <thead>\n",
       "    <tr style=\"text-align: right;\">\n",
       "      <th></th>\n",
       "      <th>Dia</th>\n",
       "      <th>Mes</th>\n",
       "      <th>Ano</th>\n",
       "      <th>Decada</th>\n",
       "      <th>Idade</th>\n",
       "      <th>FaixaEtaria</th>\n",
       "      <th>RangeMaximo</th>\n",
       "      <th>Doenca</th>\n",
       "    </tr>\n",
       "  </thead>\n",
       "  <tbody>\n",
       "    <tr>\n",
       "      <th>0</th>\n",
       "      <td>21</td>\n",
       "      <td>9</td>\n",
       "      <td>2019</td>\n",
       "      <td>2010</td>\n",
       "      <td>16</td>\n",
       "      <td>15-17</td>\n",
       "      <td>16-20</td>\n",
       "      <td>sarampo</td>\n",
       "    </tr>\n",
       "    <tr>\n",
       "      <th>1</th>\n",
       "      <td>19</td>\n",
       "      <td>8</td>\n",
       "      <td>2006</td>\n",
       "      <td>2000</td>\n",
       "      <td>18</td>\n",
       "      <td>15-17</td>\n",
       "      <td>16-20</td>\n",
       "      <td>meningite</td>\n",
       "    </tr>\n",
       "    <tr>\n",
       "      <th>2</th>\n",
       "      <td>15</td>\n",
       "      <td>1</td>\n",
       "      <td>2011</td>\n",
       "      <td>2010</td>\n",
       "      <td>16</td>\n",
       "      <td>15-17</td>\n",
       "      <td>16-20</td>\n",
       "      <td>meningite</td>\n",
       "    </tr>\n",
       "    <tr>\n",
       "      <th>3</th>\n",
       "      <td>13</td>\n",
       "      <td>2</td>\n",
       "      <td>2009</td>\n",
       "      <td>2000</td>\n",
       "      <td>17</td>\n",
       "      <td>15-17</td>\n",
       "      <td>16-20</td>\n",
       "      <td>catapora</td>\n",
       "    </tr>\n",
       "    <tr>\n",
       "      <th>4</th>\n",
       "      <td>19</td>\n",
       "      <td>6</td>\n",
       "      <td>2006</td>\n",
       "      <td>2000</td>\n",
       "      <td>18</td>\n",
       "      <td>15-17</td>\n",
       "      <td>16-20</td>\n",
       "      <td>meningite</td>\n",
       "    </tr>\n",
       "  </tbody>\n",
       "</table>\n",
       "</div>"
      ],
      "text/plain": [
       "  Dia Mes   Ano Decada  Idade FaixaEtaria RangeMaximo     Doenca\n",
       "0  21   9  2019   2010     16       15-17       16-20    sarampo\n",
       "1  19   8  2006   2000     18       15-17       16-20  meningite\n",
       "2  15   1  2011   2010     16       15-17       16-20  meningite\n",
       "3  13   2  2009   2000     17       15-17       16-20   catapora\n",
       "4  19   6  2006   2000     18       15-17       16-20  meningite"
      ]
     },
     "execution_count": 4,
     "metadata": {},
     "output_type": "execute_result"
    }
   ],
   "source": [
    "split_data.head()"
   ]
  },
  {
   "cell_type": "markdown",
   "id": "5b9fb938",
   "metadata": {},
   "source": [
    "# Níveis das árvores de Generalização"
   ]
  },
  {
   "cell_type": "code",
   "execution_count": 7,
   "id": "3682733e",
   "metadata": {},
   "outputs": [],
   "source": [
    "def date_tree(dataset):\n",
    "    level1 = ['Dia', 'Mes', 'Ano']\n",
    "    level2 = ['Mes', 'Ano']\n",
    "    level3 = ['Ano']\n",
    "    level4 = ['Decada']\n",
    "    \n",
    "    return level1, level2, level3, level4"
   ]
  },
  {
   "cell_type": "code",
   "execution_count": 8,
   "id": "8e4f196e",
   "metadata": {},
   "outputs": [],
   "source": [
    "def age_tree(dataset):\n",
    "    level1 = ['Idade']\n",
    "    level2 = ['FaixaEtaria']\n",
    "    level3 = ['RangeMaximo']\n",
    "    \n",
    "    return level1, level2, level3"
   ]
  },
  {
   "cell_type": "code",
   "execution_count": 9,
   "id": "d89e6e1c",
   "metadata": {},
   "outputs": [
    {
     "data": {
      "text/plain": [
       "(['Idade'], ['FaixaEtaria'], ['RangeMaximo'])"
      ]
     },
     "execution_count": 9,
     "metadata": {},
     "output_type": "execute_result"
    }
   ],
   "source": [
    "age_tree(split_data)"
   ]
  },
  {
   "cell_type": "code",
   "execution_count": 12,
   "id": "5d376b20",
   "metadata": {},
   "outputs": [
    {
     "data": {
      "text/plain": [
       "(['Dia', 'Mes', 'Ano'], ['Mes', 'Ano'], ['Ano'], ['Decada'])"
      ]
     },
     "execution_count": 12,
     "metadata": {},
     "output_type": "execute_result"
    }
   ],
   "source": [
    "date_tree(split_data)"
   ]
  },
  {
   "cell_type": "markdown",
   "id": "ed837c98",
   "metadata": {},
   "source": [
    "# Prioridade para agrupamentos"
   ]
  },
  {
   "cell_type": "code",
   "execution_count": null,
   "id": "d8984573",
   "metadata": {},
   "outputs": [],
   "source": [
    "def priority(dataset):\n",
    "    priority_date = date_tree(dataset)\n",
    "    priority_age = age_tree(dataset)\n",
    "    \n",
    "    comb_priority = \n",
    "    "
   ]
  }
 ],
 "metadata": {
  "kernelspec": {
   "display_name": "Python 3",
   "language": "python",
   "name": "python3"
  },
  "language_info": {
   "codemirror_mode": {
    "name": "ipython",
    "version": 3
   },
   "file_extension": ".py",
   "mimetype": "text/x-python",
   "name": "python",
   "nbconvert_exporter": "python",
   "pygments_lexer": "ipython3",
   "version": "3.8.8"
  }
 },
 "nbformat": 4,
 "nbformat_minor": 5
}

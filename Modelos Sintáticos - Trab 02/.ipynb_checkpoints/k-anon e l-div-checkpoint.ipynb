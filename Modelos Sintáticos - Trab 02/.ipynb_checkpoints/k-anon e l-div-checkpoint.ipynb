{
 "cells": [
  {
   "cell_type": "code",
   "execution_count": 1,
   "id": "d99e9c13",
   "metadata": {},
   "outputs": [],
   "source": [
    "import pandas as pd\n",
    "import numpy as np\n",
    "import itertools\n",
    "import random\n",
    "import math\n",
    "from collections import defaultdict\n",
    "from collections import Counter\n",
    "from matplotlib import pyplot as plt"
   ]
  },
  {
   "cell_type": "markdown",
   "id": "5a8f933c",
   "metadata": {},
   "source": [
    "# Reading data"
   ]
  },
  {
   "cell_type": "code",
   "execution_count": 2,
   "id": "3458aabe",
   "metadata": {},
   "outputs": [
    {
     "data": {
      "text/html": [
       "<div>\n",
       "<style scoped>\n",
       "    .dataframe tbody tr th:only-of-type {\n",
       "        vertical-align: middle;\n",
       "    }\n",
       "\n",
       "    .dataframe tbody tr th {\n",
       "        vertical-align: top;\n",
       "    }\n",
       "\n",
       "    .dataframe thead th {\n",
       "        text-align: right;\n",
       "    }\n",
       "</style>\n",
       "<table border=\"1\" class=\"dataframe\">\n",
       "  <thead>\n",
       "    <tr style=\"text-align: right;\">\n",
       "      <th></th>\n",
       "      <th>Data</th>\n",
       "      <th>Idade</th>\n",
       "      <th>Doenca</th>\n",
       "    </tr>\n",
       "  </thead>\n",
       "  <tbody>\n",
       "    <tr>\n",
       "      <th>0</th>\n",
       "      <td>21/9/2019</td>\n",
       "      <td>16</td>\n",
       "      <td>sarampo</td>\n",
       "    </tr>\n",
       "    <tr>\n",
       "      <th>1</th>\n",
       "      <td>19/8/2006</td>\n",
       "      <td>18</td>\n",
       "      <td>meningite</td>\n",
       "    </tr>\n",
       "    <tr>\n",
       "      <th>2</th>\n",
       "      <td>15/1/2011</td>\n",
       "      <td>16</td>\n",
       "      <td>meningite</td>\n",
       "    </tr>\n",
       "    <tr>\n",
       "      <th>3</th>\n",
       "      <td>13/2/2009</td>\n",
       "      <td>17</td>\n",
       "      <td>catapora</td>\n",
       "    </tr>\n",
       "    <tr>\n",
       "      <th>4</th>\n",
       "      <td>19/6/2006</td>\n",
       "      <td>18</td>\n",
       "      <td>meningite</td>\n",
       "    </tr>\n",
       "  </tbody>\n",
       "</table>\n",
       "</div>"
      ],
      "text/plain": [
       "        Data  Idade     Doenca\n",
       "0  21/9/2019     16    sarampo\n",
       "1  19/8/2006     18  meningite\n",
       "2  15/1/2011     16  meningite\n",
       "3  13/2/2009     17   catapora\n",
       "4  19/6/2006     18  meningite"
      ]
     },
     "execution_count": 2,
     "metadata": {},
     "output_type": "execute_result"
    }
   ],
   "source": [
    "alunos = pd.read_csv('alunos.csv', sep=';')\n",
    "alunos.head()"
   ]
  },
  {
   "cell_type": "markdown",
   "id": "856931b1",
   "metadata": {},
   "source": [
    "### Separating data to generalize it when necessary"
   ]
  },
  {
   "cell_type": "code",
   "execution_count": 3,
   "id": "cfb66039",
   "metadata": {},
   "outputs": [
    {
     "data": {
      "text/html": [
       "<div>\n",
       "<style scoped>\n",
       "    .dataframe tbody tr th:only-of-type {\n",
       "        vertical-align: middle;\n",
       "    }\n",
       "\n",
       "    .dataframe tbody tr th {\n",
       "        vertical-align: top;\n",
       "    }\n",
       "\n",
       "    .dataframe thead th {\n",
       "        text-align: right;\n",
       "    }\n",
       "</style>\n",
       "<table border=\"1\" class=\"dataframe\">\n",
       "  <thead>\n",
       "    <tr style=\"text-align: right;\">\n",
       "      <th></th>\n",
       "      <th>Dia</th>\n",
       "      <th>Mes</th>\n",
       "      <th>Ano</th>\n",
       "      <th>Idade</th>\n",
       "      <th>Doenca</th>\n",
       "    </tr>\n",
       "  </thead>\n",
       "  <tbody>\n",
       "    <tr>\n",
       "      <th>0</th>\n",
       "      <td>21</td>\n",
       "      <td>9</td>\n",
       "      <td>2019</td>\n",
       "      <td>16</td>\n",
       "      <td>sarampo</td>\n",
       "    </tr>\n",
       "    <tr>\n",
       "      <th>1</th>\n",
       "      <td>19</td>\n",
       "      <td>8</td>\n",
       "      <td>2006</td>\n",
       "      <td>18</td>\n",
       "      <td>meningite</td>\n",
       "    </tr>\n",
       "    <tr>\n",
       "      <th>2</th>\n",
       "      <td>15</td>\n",
       "      <td>1</td>\n",
       "      <td>2011</td>\n",
       "      <td>16</td>\n",
       "      <td>meningite</td>\n",
       "    </tr>\n",
       "    <tr>\n",
       "      <th>3</th>\n",
       "      <td>13</td>\n",
       "      <td>2</td>\n",
       "      <td>2009</td>\n",
       "      <td>17</td>\n",
       "      <td>catapora</td>\n",
       "    </tr>\n",
       "    <tr>\n",
       "      <th>4</th>\n",
       "      <td>19</td>\n",
       "      <td>6</td>\n",
       "      <td>2006</td>\n",
       "      <td>18</td>\n",
       "      <td>meningite</td>\n",
       "    </tr>\n",
       "  </tbody>\n",
       "</table>\n",
       "</div>"
      ],
      "text/plain": [
       "  Dia Mes   Ano  Idade     Doenca\n",
       "0  21   9  2019     16    sarampo\n",
       "1  19   8  2006     18  meningite\n",
       "2  15   1  2011     16  meningite\n",
       "3  13   2  2009     17   catapora\n",
       "4  19   6  2006     18  meningite"
      ]
     },
     "execution_count": 3,
     "metadata": {},
     "output_type": "execute_result"
    }
   ],
   "source": [
    "alunos_copy = alunos.copy()\n",
    "complemento = alunos['Data'].str.split('/', expand=True)\n",
    "alunos_copy['Dia'], alunos_copy['Mes'], alunos_copy['Ano'] = complemento[0], complemento[1], complemento[2]\n",
    "original_data = alunos_copy['Data']\n",
    "alunos_copy = alunos_copy[['Dia', 'Mes', 'Ano', 'Idade', 'Doenca']]\n",
    "\n",
    "alunos_copy.head()"
   ]
  },
  {
   "cell_type": "code",
   "execution_count": 4,
   "id": "9da8765f",
   "metadata": {},
   "outputs": [],
   "source": [
    "def priority(dataset):\n",
    "    generalization_order = [list(dataset.columns[i:-1]) for i in range(len(dataset.columns)-2)]\n",
    "    generalization_order = [dataset.groupby(generalization_order[i]).groups for i in range(len(generalization_order))]\n",
    "\n",
    "    return generalization_order\n",
    "\n",
    "def initial_clusters(dataset, k):   \n",
    "    clusters = defaultdict(list)\n",
    "    clustered = set()\n",
    "    generalization_order = priority(dataset)\n",
    "\n",
    "    for i in range(len(generalization_order)):\n",
    "        for key, value in zip(generalization_order[i].keys(), generalization_order[i].values()):\n",
    "            if len(value) >= k and len(clustered.intersection(value)) == 0:\n",
    "                # se o grupo do groupby é maior ou igual a k e nenhum dos valores já estiver agrupado\n",
    "                clusters[key] = list(itertools.chain(value))\n",
    "                clustered = clustered.union(clusters[key])\n",
    "                \n",
    "    return clusters, clustered"
   ]
  },
  {
   "cell_type": "code",
   "execution_count": 5,
   "id": "557fc8a9",
   "metadata": {},
   "outputs": [],
   "source": [
    "def clustering_remaining_tuples(separated_dataset, clusters, clustered, k):\n",
    "    # Agrupar por década e intervalo de idade\n",
    "    not_clustered = list(set(separated_dataset.index) - set(clustered))\n",
    "    not_clustered_df = separated_dataset.loc[not_clustered]\n",
    "    \n",
    "    decades = [ano[:-1]+'0' for ano in not_clustered_df['Ano']]\n",
    "    \n",
    "    not_clustered_df['Idade'] = not_clustered_df['Idade'].astype(str)\n",
    "    not_clustered_df['FaixaEtaria'] = [None]*len(not_clustered_df)\n",
    "\n",
    "    for i in range(len(not_clustered_df['Idade'])):\n",
    "        if(int(not_clustered_df['Idade'].iloc[i][-1]) >= 5):\n",
    "            not_clustered_df['FaixaEtaria'].iloc[i] = not_clustered_df['Idade'].iloc[i][0]+'5-'+not_clustered_df['Idade'].iloc[i][0]+'9'\n",
    "        else:\n",
    "            not_clustered_df['FaixaEtaria'].iloc[i] = not_clustered_df['Idade'].iloc[i][0]+'0-'+not_clustered_df['Idade'].iloc[i][0]+'4'\n",
    "\n",
    "    not_clustered_df['Decada'] = decades\n",
    "\n",
    "    not_clustered_df = not_clustered_df[['Decada', 'FaixaEtaria', 'Doenca']]\n",
    "\n",
    "    remaining_clusters, remaining_clustered = initial_clusters(not_clustered_df, k)\n",
    "    clustered = clustered.union(remaining_clustered)\n",
    "   \n",
    "    for key, value in zip(remaining_clusters.keys(), remaining_clusters.values()):\n",
    "        clusters[key] = value\n",
    "        \n",
    "    return clusters"
   ]
  },
  {
   "cell_type": "markdown",
   "id": "c6e16c23",
   "metadata": {},
   "source": [
    "# k-anonimato"
   ]
  },
  {
   "cell_type": "code",
   "execution_count": 6,
   "id": "2404c9f8",
   "metadata": {},
   "outputs": [],
   "source": [
    "def k_anonymity(dataset, clusters):\n",
    "    k_anonymized = pd.DataFrame([[None]*3]*len(dataset), columns=dataset.columns)\n",
    "    for key, value in zip(clusters.keys(), clusters.values()):\n",
    "        if not isinstance(key, list) and isinstance(key, str):\n",
    "            if '-' not in key:\n",
    "                k_anonymized.loc[value] = [[key, '{}-{}'.format(dataset['Idade'].min(), dataset['Idade'].max()), key]+[dataset[dataset.columns[-1]].loc[v]] for v in value]\n",
    "            else:\n",
    "                k_anonymized.loc[value] = [['*', key]+[dataset[dataset.columns[-1]].loc[v]] for v in value]\n",
    "\n",
    "        if not isinstance(key, list) and isinstance(key, int):\n",
    "            k_anonymized.loc[value] = [['*', key]+[dataset[dataset.columns[-1]].loc[v]] for v in value]\n",
    "\n",
    "        elif all(map(lambda x: isinstance(x, str), key)):\n",
    "            k_anonymized.loc[value] = [[k for k in key]+[dataset[dataset.columns[-1]].loc[v]] for v in value]\n",
    "\n",
    "        else:\n",
    "            to_fill = [key[0]]\n",
    "            for i in range(1, len(key)):\n",
    "                if type(key[i]) == str:\n",
    "                    to_fill[0] = to_fill[0] + str('/'+key[i])\n",
    "                else:\n",
    "                    to_fill.append(key[i])\n",
    "            k_anonymized.loc[value] = [to_fill+[dataset[dataset.columns[-1]].loc[v]] for v in value]\n",
    "\n",
    "    return k_anonymized"
   ]
  },
  {
   "cell_type": "code",
   "execution_count": 7,
   "id": "5de98b0f",
   "metadata": {},
   "outputs": [],
   "source": [
    "def plot_histogram(clusters):\n",
    "    lengths = []\n",
    "    for cluster in clusters.values():\n",
    "        lengths.append(len(cluster))\n",
    "\n",
    "    counter = dict(sorted(Counter(lengths).items()))\n",
    "    keys_str = [str(key) for key in counter.keys()]\n",
    "    plt.bar(keys_str, counter.values())\n",
    "    \n",
    "    return plt.show()"
   ]
  },
  {
   "cell_type": "markdown",
   "id": "2852270e",
   "metadata": {},
   "source": [
    "# Chamadas de funções"
   ]
  },
  {
   "cell_type": "code",
   "execution_count": 12,
   "id": "28d09097",
   "metadata": {
    "scrolled": true
   },
   "outputs": [],
   "source": [
    "clusters, clustered = initial_clusters(alunos_copy, 20)\n",
    "all_clusters = clustering_remaining_tuples(alunos_copy, clusters, clustered, 20)"
   ]
  },
  {
   "cell_type": "code",
   "execution_count": 13,
   "id": "9d000287",
   "metadata": {},
   "outputs": [
    {
     "data": {
      "text/html": [
       "<div>\n",
       "<style scoped>\n",
       "    .dataframe tbody tr th:only-of-type {\n",
       "        vertical-align: middle;\n",
       "    }\n",
       "\n",
       "    .dataframe tbody tr th {\n",
       "        vertical-align: top;\n",
       "    }\n",
       "\n",
       "    .dataframe thead th {\n",
       "        text-align: right;\n",
       "    }\n",
       "</style>\n",
       "<table border=\"1\" class=\"dataframe\">\n",
       "  <thead>\n",
       "    <tr style=\"text-align: right;\">\n",
       "      <th></th>\n",
       "      <th>Data</th>\n",
       "      <th>Idade</th>\n",
       "      <th>Doenca</th>\n",
       "    </tr>\n",
       "  </thead>\n",
       "  <tbody>\n",
       "    <tr>\n",
       "      <th>0</th>\n",
       "      <td>2010</td>\n",
       "      <td>15-19</td>\n",
       "      <td>sarampo</td>\n",
       "    </tr>\n",
       "    <tr>\n",
       "      <th>1</th>\n",
       "      <td>2000</td>\n",
       "      <td>15-19</td>\n",
       "      <td>meningite</td>\n",
       "    </tr>\n",
       "    <tr>\n",
       "      <th>2</th>\n",
       "      <td>2010</td>\n",
       "      <td>15-19</td>\n",
       "      <td>meningite</td>\n",
       "    </tr>\n",
       "    <tr>\n",
       "      <th>3</th>\n",
       "      <td>2000</td>\n",
       "      <td>15-19</td>\n",
       "      <td>catapora</td>\n",
       "    </tr>\n",
       "    <tr>\n",
       "      <th>4</th>\n",
       "      <td>2000</td>\n",
       "      <td>15-19</td>\n",
       "      <td>meningite</td>\n",
       "    </tr>\n",
       "  </tbody>\n",
       "</table>\n",
       "</div>"
      ],
      "text/plain": [
       "   Data  Idade     Doenca\n",
       "0  2010  15-19    sarampo\n",
       "1  2000  15-19  meningite\n",
       "2  2010  15-19  meningite\n",
       "3  2000  15-19   catapora\n",
       "4  2000  15-19  meningite"
      ]
     },
     "execution_count": 13,
     "metadata": {},
     "output_type": "execute_result"
    }
   ],
   "source": [
    "a = k_anonymity(alunos, all_clusters)\n",
    "a.head()"
   ]
  },
  {
   "cell_type": "code",
   "execution_count": 10,
   "id": "ce1772b1",
   "metadata": {},
   "outputs": [
    {
     "data": {
      "image/png": "[encoded data removed]",
      "text/plain": [
       "<Figure size 432x288 with 1 Axes>"
      ]
     },
     "metadata": {
      "needs_background": "light"
     },
     "output_type": "display_data"
    }
   ],
   "source": [
    "plot_histogram(all_clusters)"
   ]
  },
  {
   "cell_type": "code",
   "execution_count": null,
   "id": "8b000ba6",
   "metadata": {},
   "outputs": [],
   "source": []
  }
 ],
 "metadata": {
  "kernelspec": {
   "display_name": "Python 3 (ipykernel)",
   "language": "python",
   "name": "python3"
  },
  "language_info": {
   "codemirror_mode": {
    "name": "ipython",
    "version": 3
   },
   "file_extension": ".py",
   "mimetype": "text/x-python",
   "name": "python",
   "nbconvert_exporter": "python",
   "pygments_lexer": "ipython3",
   "version": "3.10.0"
  }
 },
 "nbformat": 4,
 "nbformat_minor": 5
}
